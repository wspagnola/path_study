{
 "cells": [
  {
   "cell_type": "code",
   "execution_count": 5,
   "id": "769526bf",
   "metadata": {},
   "outputs": [],
   "source": [
    "import os\n",
    "import pandas as pd"
   ]
  },
  {
   "cell_type": "code",
   "execution_count": 6,
   "id": "ec453f8d",
   "metadata": {},
   "outputs": [
    {
     "data": {
      "text/plain": [
       "'C:\\\\Users\\\\RANYCS\\\\Desktop\\\\path_study'"
      ]
     },
     "execution_count": 6,
     "metadata": {},
     "output_type": "execute_result"
    }
   ],
   "source": [
    "# Use dir(library) to find functions\n",
    "os.getcwd()"
   ]
  },
  {
   "cell_type": "code",
   "execution_count": 9,
   "id": "6e7d5223",
   "metadata": {},
   "outputs": [
    {
     "data": {
      "text/plain": [
       "['adult_panel.csv']"
      ]
     },
     "execution_count": 9,
     "metadata": {},
     "output_type": "execute_result"
    }
   ],
   "source": [
    "os.listdir('data/Output') # note should make output lowercase"
   ]
  },
  {
   "cell_type": "code",
   "execution_count": 11,
   "id": "d8c9e70c",
   "metadata": {},
   "outputs": [
    {
     "name": "stderr",
     "output_type": "stream",
     "text": [
      "C:\\Users\\RANYCS\\anaconda3\\lib\\site-packages\\IPython\\core\\interactiveshell.py:3165: DtypeWarning: Columns (8,10,11,12,13,14,15,16,17,20,21,76,77,78,79) have mixed types.Specify dtype option on import or set low_memory=False.\n",
      "  has_raised = await self.run_ast_nodes(code_ast.body, cell_name,\n"
     ]
    }
   ],
   "source": [
    "dta = pd.read_csv('data/Output/adult_panel.csv')"
   ]
  },
  {
   "cell_type": "code",
   "execution_count": 12,
   "id": "2e30d424",
   "metadata": {},
   "outputs": [
    {
     "data": {
      "text/html": [
       "<div>\n",
       "<style scoped>\n",
       "    .dataframe tbody tr th:only-of-type {\n",
       "        vertical-align: middle;\n",
       "    }\n",
       "\n",
       "    .dataframe tbody tr th {\n",
       "        vertical-align: top;\n",
       "    }\n",
       "\n",
       "    .dataframe thead th {\n",
       "        text-align: right;\n",
       "    }\n",
       "</style>\n",
       "<table border=\"1\" class=\"dataframe\">\n",
       "  <thead>\n",
       "    <tr style=\"text-align: right;\">\n",
       "      <th></th>\n",
       "      <th>PERSONID</th>\n",
       "      <th>cig_use_ever_w1</th>\n",
       "      <th>cig_current_freq_w1</th>\n",
       "      <th>cig_use_past30D_w1</th>\n",
       "      <th>cig_num_life_w1</th>\n",
       "      <th>gender_w1</th>\n",
       "      <th>hispanic_w1</th>\n",
       "      <th>race_w1</th>\n",
       "      <th>poverty_w1</th>\n",
       "      <th>region_w1</th>\n",
       "      <th>...</th>\n",
       "      <th>R01R_A_CUR_EXPR_CIGS</th>\n",
       "      <th>R01R_A_FMR_EXPR_CIGS</th>\n",
       "      <th>R02R_A_CUR_ESTD_CIGS</th>\n",
       "      <th>R02R_A_CUR_EXPR_CIGS</th>\n",
       "      <th>R02R_A_FMR_ESTD_CIGS_REV</th>\n",
       "      <th>R02R_A_FMR_EXPR_CIGS_REV</th>\n",
       "      <th>R03R_A_CUR_ESTD_CIGS</th>\n",
       "      <th>R03R_A_CUR_EXPR_CIGS</th>\n",
       "      <th>R03R_A_FMR_ESTD_CIGS_REV</th>\n",
       "      <th>R03R_A_FMR_EXPR_CIGS_REV</th>\n",
       "    </tr>\n",
       "  </thead>\n",
       "  <tbody>\n",
       "    <tr>\n",
       "      <th>0</th>\n",
       "      <td>P000000004</td>\n",
       "      <td>0.0</td>\n",
       "      <td>-1.0</td>\n",
       "      <td>-1.0</td>\n",
       "      <td>-1.0</td>\n",
       "      <td>2.0</td>\n",
       "      <td>1.0</td>\n",
       "      <td>NaN</td>\n",
       "      <td>At or above poverty</td>\n",
       "      <td>4.0</td>\n",
       "      <td>...</td>\n",
       "      <td>2.0</td>\n",
       "      <td>2.0</td>\n",
       "      <td>2.0</td>\n",
       "      <td>2.0</td>\n",
       "      <td>2.0</td>\n",
       "      <td>2.0</td>\n",
       "      <td>2.0</td>\n",
       "      <td>2.0</td>\n",
       "      <td>2.0</td>\n",
       "      <td>2.0</td>\n",
       "    </tr>\n",
       "    <tr>\n",
       "      <th>1</th>\n",
       "      <td>P000000005</td>\n",
       "      <td>1.0</td>\n",
       "      <td>2.0</td>\n",
       "      <td>-1.0</td>\n",
       "      <td>5.0</td>\n",
       "      <td>2.0</td>\n",
       "      <td>1.0</td>\n",
       "      <td>NaN</td>\n",
       "      <td>At or above poverty</td>\n",
       "      <td>1.0</td>\n",
       "      <td>...</td>\n",
       "      <td>1.0</td>\n",
       "      <td>2.0</td>\n",
       "      <td>2.0</td>\n",
       "      <td>1.0</td>\n",
       "      <td>2.0</td>\n",
       "      <td>2.0</td>\n",
       "      <td>2.0</td>\n",
       "      <td>1.0</td>\n",
       "      <td>2.0</td>\n",
       "      <td>2.0</td>\n",
       "    </tr>\n",
       "    <tr>\n",
       "      <th>2</th>\n",
       "      <td>P000000007</td>\n",
       "      <td>1.0</td>\n",
       "      <td>3.0</td>\n",
       "      <td>2.0</td>\n",
       "      <td>6.0</td>\n",
       "      <td>1.0</td>\n",
       "      <td>2.0</td>\n",
       "      <td>1.0</td>\n",
       "      <td>At or above poverty</td>\n",
       "      <td>4.0</td>\n",
       "      <td>...</td>\n",
       "      <td>2.0</td>\n",
       "      <td>2.0</td>\n",
       "      <td>NaN</td>\n",
       "      <td>NaN</td>\n",
       "      <td>NaN</td>\n",
       "      <td>NaN</td>\n",
       "      <td>NaN</td>\n",
       "      <td>NaN</td>\n",
       "      <td>NaN</td>\n",
       "      <td>NaN</td>\n",
       "    </tr>\n",
       "    <tr>\n",
       "      <th>3</th>\n",
       "      <td>P000000008</td>\n",
       "      <td>1.0</td>\n",
       "      <td>1.0</td>\n",
       "      <td>-1.0</td>\n",
       "      <td>3.0</td>\n",
       "      <td>1.0</td>\n",
       "      <td>2.0</td>\n",
       "      <td>1.0</td>\n",
       "      <td>At or above poverty</td>\n",
       "      <td>2.0</td>\n",
       "      <td>...</td>\n",
       "      <td>1.0</td>\n",
       "      <td>2.0</td>\n",
       "      <td>NaN</td>\n",
       "      <td>NaN</td>\n",
       "      <td>NaN</td>\n",
       "      <td>NaN</td>\n",
       "      <td>NaN</td>\n",
       "      <td>NaN</td>\n",
       "      <td>NaN</td>\n",
       "      <td>NaN</td>\n",
       "    </tr>\n",
       "    <tr>\n",
       "      <th>4</th>\n",
       "      <td>P000000030</td>\n",
       "      <td>1.0</td>\n",
       "      <td>1.0</td>\n",
       "      <td>-1.0</td>\n",
       "      <td>5.0</td>\n",
       "      <td>2.0</td>\n",
       "      <td>2.0</td>\n",
       "      <td>1.0</td>\n",
       "      <td>At or above poverty</td>\n",
       "      <td>2.0</td>\n",
       "      <td>...</td>\n",
       "      <td>1.0</td>\n",
       "      <td>2.0</td>\n",
       "      <td>2.0</td>\n",
       "      <td>1.0</td>\n",
       "      <td>2.0</td>\n",
       "      <td>2.0</td>\n",
       "      <td>1.0</td>\n",
       "      <td>2.0</td>\n",
       "      <td>2.0</td>\n",
       "      <td>2.0</td>\n",
       "    </tr>\n",
       "  </tbody>\n",
       "</table>\n",
       "<p>5 rows × 109 columns</p>\n",
       "</div>"
      ],
      "text/plain": [
       "     PERSONID  cig_use_ever_w1  cig_current_freq_w1  cig_use_past30D_w1  \\\n",
       "0  P000000004              0.0                 -1.0                -1.0   \n",
       "1  P000000005              1.0                  2.0                -1.0   \n",
       "2  P000000007              1.0                  3.0                 2.0   \n",
       "3  P000000008              1.0                  1.0                -1.0   \n",
       "4  P000000030              1.0                  1.0                -1.0   \n",
       "\n",
       "   cig_num_life_w1  gender_w1  hispanic_w1  race_w1           poverty_w1  \\\n",
       "0             -1.0        2.0          1.0      NaN  At or above poverty   \n",
       "1              5.0        2.0          1.0      NaN  At or above poverty   \n",
       "2              6.0        1.0          2.0      1.0  At or above poverty   \n",
       "3              3.0        1.0          2.0      1.0  At or above poverty   \n",
       "4              5.0        2.0          2.0      1.0  At or above poverty   \n",
       "\n",
       "   region_w1  ... R01R_A_CUR_EXPR_CIGS R01R_A_FMR_EXPR_CIGS  \\\n",
       "0        4.0  ...                  2.0                  2.0   \n",
       "1        1.0  ...                  1.0                  2.0   \n",
       "2        4.0  ...                  2.0                  2.0   \n",
       "3        2.0  ...                  1.0                  2.0   \n",
       "4        2.0  ...                  1.0                  2.0   \n",
       "\n",
       "  R02R_A_CUR_ESTD_CIGS R02R_A_CUR_EXPR_CIGS R02R_A_FMR_ESTD_CIGS_REV  \\\n",
       "0                  2.0                  2.0                      2.0   \n",
       "1                  2.0                  1.0                      2.0   \n",
       "2                  NaN                  NaN                      NaN   \n",
       "3                  NaN                  NaN                      NaN   \n",
       "4                  2.0                  1.0                      2.0   \n",
       "\n",
       "  R02R_A_FMR_EXPR_CIGS_REV R03R_A_CUR_ESTD_CIGS R03R_A_CUR_EXPR_CIGS  \\\n",
       "0                      2.0                  2.0                  2.0   \n",
       "1                      2.0                  2.0                  1.0   \n",
       "2                      NaN                  NaN                  NaN   \n",
       "3                      NaN                  NaN                  NaN   \n",
       "4                      2.0                  1.0                  2.0   \n",
       "\n",
       "   R03R_A_FMR_ESTD_CIGS_REV  R03R_A_FMR_EXPR_CIGS_REV  \n",
       "0                       2.0                       2.0  \n",
       "1                       2.0                       2.0  \n",
       "2                       NaN                       NaN  \n",
       "3                       NaN                       NaN  \n",
       "4                       2.0                       2.0  \n",
       "\n",
       "[5 rows x 109 columns]"
      ]
     },
     "execution_count": 12,
     "metadata": {},
     "output_type": "execute_result"
    }
   ],
   "source": [
    "dta.head()"
   ]
  },
  {
   "cell_type": "code",
   "execution_count": 13,
   "id": "19fc49dc",
   "metadata": {},
   "outputs": [
    {
     "data": {
      "text/plain": [
       "['36498-1001-Data.tsv',\n",
       " '36498-2001-Data.tsv',\n",
       " '36498-3001-Data.tsv',\n",
       " '36498-4001-Data.tsv']"
      ]
     },
     "execution_count": 13,
     "metadata": {},
     "output_type": "execute_result"
    }
   ],
   "source": [
    "os.listdir('data/Input')"
   ]
  },
  {
   "cell_type": "code",
   "execution_count": 52,
   "id": "51d563a4",
   "metadata": {},
   "outputs": [
    {
     "name": "stderr",
     "output_type": "stream",
     "text": [
      "C:\\Users\\RANYCS\\anaconda3\\lib\\site-packages\\IPython\\core\\interactiveshell.py:3165: DtypeWarning: Columns (432,433,434,435,436,437,438,439,440,668,669,670,671,672,673,674,675,676,677,678,679,680) have mixed types.Specify dtype option on import or set low_memory=False.\n",
      "  has_raised = await self.run_ast_nodes(code_ast.body, cell_name,\n"
     ]
    }
   ],
   "source": [
    "#pd.read_csv('c:/~/trainSetRel3.txt', sep='\\t')\n",
    "# Note: pandas doesn't have read_tsv function or read_table function\n",
    "## Just use pd.read_csv() and change sep argument\n",
    "dta_w1 = pd.read_csv('data/Input/36498-1001-Data.tsv', sep = '\\t')"
   ]
  },
  {
   "cell_type": "code",
   "execution_count": 18,
   "id": "f031939d",
   "metadata": {},
   "outputs": [
    {
     "data": {
      "text/plain": [
       "Index(['CASEID', 'PERSONID', 'R01_AC1002', 'R01_AC1003', 'R01_AC0100',\n",
       "       'R01_AC0102', 'R01_AC0103', 'R01_AC1004', 'R01_AE1001', 'R01_AE1002',\n",
       "       ...\n",
       "       'R01R_A_PST12M_LNQUIT_ECIG_DUR', 'R01R_A_PST12M_LSTQUIT_DUR',\n",
       "       'R01R_A_PST12M_LSTQUIT_ECIG_DUR', 'R01R_A_PST12M_LSTQUIT_ECIG_NRT',\n",
       "       'R01R_A_PST12M_LSTQUIT_RX', 'R01R_A_PST12M_LSTQUIT_ECIG_RX',\n",
       "       'R01R_A_PST12M_LSTQUIT_NRT', 'R01R_A_BIOCOLLECT_BUCCAL',\n",
       "       'R01R_A_BIOCOLLECT_URINE', 'R01R_A_BIOCOLLECT_BLOOD'],\n",
       "      dtype='object', length=1742)"
      ]
     },
     "execution_count": 18,
     "metadata": {},
     "output_type": "execute_result"
    }
   ],
   "source": [
    "# Note: need to find some interesting columns\n",
    "dta_w1.columns"
   ]
  },
  {
   "cell_type": "code",
   "execution_count": 53,
   "id": "d12f55f6",
   "metadata": {},
   "outputs": [
    {
     "data": {
      "text/html": [
       "<div>\n",
       "<style scoped>\n",
       "    .dataframe tbody tr th:only-of-type {\n",
       "        vertical-align: middle;\n",
       "    }\n",
       "\n",
       "    .dataframe tbody tr th {\n",
       "        vertical-align: top;\n",
       "    }\n",
       "\n",
       "    .dataframe thead th {\n",
       "        text-align: right;\n",
       "    }\n",
       "</style>\n",
       "<table border=\"1\" class=\"dataframe\">\n",
       "  <thead>\n",
       "    <tr style=\"text-align: right;\">\n",
       "      <th></th>\n",
       "      <th>R01R_A_RACECAT3</th>\n",
       "    </tr>\n",
       "  </thead>\n",
       "  <tbody>\n",
       "    <tr>\n",
       "      <th>0</th>\n",
       "      <td>-99977</td>\n",
       "    </tr>\n",
       "    <tr>\n",
       "      <th>1</th>\n",
       "      <td>-99977</td>\n",
       "    </tr>\n",
       "    <tr>\n",
       "      <th>2</th>\n",
       "      <td>1</td>\n",
       "    </tr>\n",
       "    <tr>\n",
       "      <th>3</th>\n",
       "      <td>1</td>\n",
       "    </tr>\n",
       "    <tr>\n",
       "      <th>4</th>\n",
       "      <td>1</td>\n",
       "    </tr>\n",
       "    <tr>\n",
       "      <th>...</th>\n",
       "      <td>...</td>\n",
       "    </tr>\n",
       "    <tr>\n",
       "      <th>32315</th>\n",
       "      <td>1</td>\n",
       "    </tr>\n",
       "    <tr>\n",
       "      <th>32316</th>\n",
       "      <td>1</td>\n",
       "    </tr>\n",
       "    <tr>\n",
       "      <th>32317</th>\n",
       "      <td>1</td>\n",
       "    </tr>\n",
       "    <tr>\n",
       "      <th>32318</th>\n",
       "      <td>1</td>\n",
       "    </tr>\n",
       "    <tr>\n",
       "      <th>32319</th>\n",
       "      <td>1</td>\n",
       "    </tr>\n",
       "  </tbody>\n",
       "</table>\n",
       "<p>32320 rows × 1 columns</p>\n",
       "</div>"
      ],
      "text/plain": [
       "       R01R_A_RACECAT3\n",
       "0               -99977\n",
       "1               -99977\n",
       "2                    1\n",
       "3                    1\n",
       "4                    1\n",
       "...                ...\n",
       "32315                1\n",
       "32316                1\n",
       "32317                1\n",
       "32318                1\n",
       "32319                1\n",
       "\n",
       "[32320 rows x 1 columns]"
      ]
     },
     "execution_count": 53,
     "metadata": {},
     "output_type": "execute_result"
    }
   ],
   "source": [
    "dta_w1[[\"R01R_A_RACECAT3\"]]"
   ]
  },
  {
   "cell_type": "code",
   "execution_count": null,
   "id": "47d832a5",
   "metadata": {},
   "outputs": [],
   "source": [
    "# gender_w1 = R01R_A_SEX,\n",
    "#          race_w1 = R01R_A_RACECAT3,\n",
    "#          hispanic_w1 = R01R_A_HISP,\n",
    "#          sexual_orientation_w1 = R01R_A_SEXORIENT2,\n",
    "#          poverty_w1 =R01R_POVCAT2,\n",
    "#          region_w1 = R01X_CB_REGION,\n",
    "#          cig_use_ever_w1 = R01_AC1002,\n",
    "#          cig_current_freq_w1 = R01_AC1003,\n",
    "#          cig_use_past30D_w1 = R01_AC1004,\n",
    "#          cig_num_life_w1 = R01_AC1005) %>% "
   ]
  },
  {
   "cell_type": "code",
   "execution_count": 51,
   "id": "0959b354",
   "metadata": {},
   "outputs": [
    {
     "ename": "KeyError",
     "evalue": "\"None of [Index(['R01R_A_SEXORIENT2'], dtype='object')] are in the [columns]\"",
     "output_type": "error",
     "traceback": [
      "\u001b[1;31m---------------------------------------------------------------------------\u001b[0m",
      "\u001b[1;31mKeyError\u001b[0m                                  Traceback (most recent call last)",
      "\u001b[1;32m<ipython-input-51-41f94ccb2904>\u001b[0m in \u001b[0;36m<module>\u001b[1;34m\u001b[0m\n\u001b[1;32m----> 1\u001b[1;33m \u001b[0mdta_w1\u001b[0m\u001b[1;33m[\u001b[0m\u001b[1;33m[\u001b[0m\u001b[1;34m'R01R_A_SEXORIENT2'\u001b[0m\u001b[1;33m]\u001b[0m\u001b[1;33m]\u001b[0m\u001b[1;33m.\u001b[0m\u001b[0mhead\u001b[0m\u001b[1;33m(\u001b[0m\u001b[1;33m)\u001b[0m\u001b[1;33m\u001b[0m\u001b[1;33m\u001b[0m\u001b[0m\n\u001b[0m",
      "\u001b[1;32m~\\anaconda3\\lib\\site-packages\\pandas\\core\\frame.py\u001b[0m in \u001b[0;36m__getitem__\u001b[1;34m(self, key)\u001b[0m\n\u001b[0;32m   3028\u001b[0m             \u001b[1;32mif\u001b[0m \u001b[0mis_iterator\u001b[0m\u001b[1;33m(\u001b[0m\u001b[0mkey\u001b[0m\u001b[1;33m)\u001b[0m\u001b[1;33m:\u001b[0m\u001b[1;33m\u001b[0m\u001b[1;33m\u001b[0m\u001b[0m\n\u001b[0;32m   3029\u001b[0m                 \u001b[0mkey\u001b[0m \u001b[1;33m=\u001b[0m \u001b[0mlist\u001b[0m\u001b[1;33m(\u001b[0m\u001b[0mkey\u001b[0m\u001b[1;33m)\u001b[0m\u001b[1;33m\u001b[0m\u001b[1;33m\u001b[0m\u001b[0m\n\u001b[1;32m-> 3030\u001b[1;33m             \u001b[0mindexer\u001b[0m \u001b[1;33m=\u001b[0m \u001b[0mself\u001b[0m\u001b[1;33m.\u001b[0m\u001b[0mloc\u001b[0m\u001b[1;33m.\u001b[0m\u001b[0m_get_listlike_indexer\u001b[0m\u001b[1;33m(\u001b[0m\u001b[0mkey\u001b[0m\u001b[1;33m,\u001b[0m \u001b[0maxis\u001b[0m\u001b[1;33m=\u001b[0m\u001b[1;36m1\u001b[0m\u001b[1;33m,\u001b[0m \u001b[0mraise_missing\u001b[0m\u001b[1;33m=\u001b[0m\u001b[1;32mTrue\u001b[0m\u001b[1;33m)\u001b[0m\u001b[1;33m[\u001b[0m\u001b[1;36m1\u001b[0m\u001b[1;33m]\u001b[0m\u001b[1;33m\u001b[0m\u001b[1;33m\u001b[0m\u001b[0m\n\u001b[0m\u001b[0;32m   3031\u001b[0m \u001b[1;33m\u001b[0m\u001b[0m\n\u001b[0;32m   3032\u001b[0m         \u001b[1;31m# take() does not accept boolean indexers\u001b[0m\u001b[1;33m\u001b[0m\u001b[1;33m\u001b[0m\u001b[1;33m\u001b[0m\u001b[0m\n",
      "\u001b[1;32m~\\anaconda3\\lib\\site-packages\\pandas\\core\\indexing.py\u001b[0m in \u001b[0;36m_get_listlike_indexer\u001b[1;34m(self, key, axis, raise_missing)\u001b[0m\n\u001b[0;32m   1264\u001b[0m             \u001b[0mkeyarr\u001b[0m\u001b[1;33m,\u001b[0m \u001b[0mindexer\u001b[0m\u001b[1;33m,\u001b[0m \u001b[0mnew_indexer\u001b[0m \u001b[1;33m=\u001b[0m \u001b[0max\u001b[0m\u001b[1;33m.\u001b[0m\u001b[0m_reindex_non_unique\u001b[0m\u001b[1;33m(\u001b[0m\u001b[0mkeyarr\u001b[0m\u001b[1;33m)\u001b[0m\u001b[1;33m\u001b[0m\u001b[1;33m\u001b[0m\u001b[0m\n\u001b[0;32m   1265\u001b[0m \u001b[1;33m\u001b[0m\u001b[0m\n\u001b[1;32m-> 1266\u001b[1;33m         \u001b[0mself\u001b[0m\u001b[1;33m.\u001b[0m\u001b[0m_validate_read_indexer\u001b[0m\u001b[1;33m(\u001b[0m\u001b[0mkeyarr\u001b[0m\u001b[1;33m,\u001b[0m \u001b[0mindexer\u001b[0m\u001b[1;33m,\u001b[0m \u001b[0maxis\u001b[0m\u001b[1;33m,\u001b[0m \u001b[0mraise_missing\u001b[0m\u001b[1;33m=\u001b[0m\u001b[0mraise_missing\u001b[0m\u001b[1;33m)\u001b[0m\u001b[1;33m\u001b[0m\u001b[1;33m\u001b[0m\u001b[0m\n\u001b[0m\u001b[0;32m   1267\u001b[0m         \u001b[1;32mreturn\u001b[0m \u001b[0mkeyarr\u001b[0m\u001b[1;33m,\u001b[0m \u001b[0mindexer\u001b[0m\u001b[1;33m\u001b[0m\u001b[1;33m\u001b[0m\u001b[0m\n\u001b[0;32m   1268\u001b[0m \u001b[1;33m\u001b[0m\u001b[0m\n",
      "\u001b[1;32m~\\anaconda3\\lib\\site-packages\\pandas\\core\\indexing.py\u001b[0m in \u001b[0;36m_validate_read_indexer\u001b[1;34m(self, key, indexer, axis, raise_missing)\u001b[0m\n\u001b[0;32m   1306\u001b[0m             \u001b[1;32mif\u001b[0m \u001b[0mmissing\u001b[0m \u001b[1;33m==\u001b[0m \u001b[0mlen\u001b[0m\u001b[1;33m(\u001b[0m\u001b[0mindexer\u001b[0m\u001b[1;33m)\u001b[0m\u001b[1;33m:\u001b[0m\u001b[1;33m\u001b[0m\u001b[1;33m\u001b[0m\u001b[0m\n\u001b[0;32m   1307\u001b[0m                 \u001b[0maxis_name\u001b[0m \u001b[1;33m=\u001b[0m \u001b[0mself\u001b[0m\u001b[1;33m.\u001b[0m\u001b[0mobj\u001b[0m\u001b[1;33m.\u001b[0m\u001b[0m_get_axis_name\u001b[0m\u001b[1;33m(\u001b[0m\u001b[0maxis\u001b[0m\u001b[1;33m)\u001b[0m\u001b[1;33m\u001b[0m\u001b[1;33m\u001b[0m\u001b[0m\n\u001b[1;32m-> 1308\u001b[1;33m                 \u001b[1;32mraise\u001b[0m \u001b[0mKeyError\u001b[0m\u001b[1;33m(\u001b[0m\u001b[1;34mf\"None of [{key}] are in the [{axis_name}]\"\u001b[0m\u001b[1;33m)\u001b[0m\u001b[1;33m\u001b[0m\u001b[1;33m\u001b[0m\u001b[0m\n\u001b[0m\u001b[0;32m   1309\u001b[0m \u001b[1;33m\u001b[0m\u001b[0m\n\u001b[0;32m   1310\u001b[0m             \u001b[0max\u001b[0m \u001b[1;33m=\u001b[0m \u001b[0mself\u001b[0m\u001b[1;33m.\u001b[0m\u001b[0mobj\u001b[0m\u001b[1;33m.\u001b[0m\u001b[0m_get_axis\u001b[0m\u001b[1;33m(\u001b[0m\u001b[0maxis\u001b[0m\u001b[1;33m)\u001b[0m\u001b[1;33m\u001b[0m\u001b[1;33m\u001b[0m\u001b[0m\n",
      "\u001b[1;31mKeyError\u001b[0m: \"None of [Index(['R01R_A_SEXORIENT2'], dtype='object')] are in the [columns]\""
     ]
    }
   ],
   "source": [
    "dta_w1[['R01R_A_SEXORIENT2']].head()"
   ]
  },
  {
   "cell_type": "code",
   "execution_count": 54,
   "id": "9ffeb01f",
   "metadata": {},
   "outputs": [
    {
     "data": {
      "text/html": [
       "<div>\n",
       "<style scoped>\n",
       "    .dataframe tbody tr th:only-of-type {\n",
       "        vertical-align: middle;\n",
       "    }\n",
       "\n",
       "    .dataframe tbody tr th {\n",
       "        vertical-align: top;\n",
       "    }\n",
       "\n",
       "    .dataframe thead th {\n",
       "        text-align: right;\n",
       "    }\n",
       "</style>\n",
       "<table border=\"1\" class=\"dataframe\">\n",
       "  <thead>\n",
       "    <tr style=\"text-align: right;\">\n",
       "      <th></th>\n",
       "      <th>gender_w1</th>\n",
       "      <th>race_w1</th>\n",
       "    </tr>\n",
       "  </thead>\n",
       "  <tbody>\n",
       "    <tr>\n",
       "      <th>0</th>\n",
       "      <td>2</td>\n",
       "      <td>-99977</td>\n",
       "    </tr>\n",
       "    <tr>\n",
       "      <th>1</th>\n",
       "      <td>2</td>\n",
       "      <td>-99977</td>\n",
       "    </tr>\n",
       "    <tr>\n",
       "      <th>2</th>\n",
       "      <td>1</td>\n",
       "      <td>1</td>\n",
       "    </tr>\n",
       "    <tr>\n",
       "      <th>3</th>\n",
       "      <td>1</td>\n",
       "      <td>1</td>\n",
       "    </tr>\n",
       "    <tr>\n",
       "      <th>4</th>\n",
       "      <td>2</td>\n",
       "      <td>1</td>\n",
       "    </tr>\n",
       "  </tbody>\n",
       "</table>\n",
       "</div>"
      ],
      "text/plain": [
       "   gender_w1  race_w1\n",
       "0          2   -99977\n",
       "1          2   -99977\n",
       "2          1        1\n",
       "3          1        1\n",
       "4          2        1"
      ]
     },
     "execution_count": 54,
     "metadata": {},
     "output_type": "execute_result"
    }
   ],
   "source": [
    "# inplace = True\n",
    "# Assignment, copt, inplace vs. R\n",
    "dta_w1.rename(columns = {  \"R01R_A_SEX\": \"gender_w1\", \n",
    "                         \"R01R_A_RACECAT3\": \"race_w1\"}, inplace = True)\n",
    "dta_w1[[\"gender_w1\", \"race_w1\"]].head()"
   ]
  },
  {
   "cell_type": "markdown",
   "id": "8666de5f",
   "metadata": {},
   "source": [
    "### Check Unique values"
   ]
  },
  {
   "cell_type": "code",
   "execution_count": 62,
   "id": "7d253127",
   "metadata": {},
   "outputs": [
    {
     "data": {
      "text/plain": [
       "gender_w1       [2, 1, -99977, -99988, -97777]\n",
       "race_w1      [-99977, 1, 2, 3, -99988, -97777]\n",
       "dtype: object"
      ]
     },
     "execution_count": 62,
     "metadata": {},
     "output_type": "execute_result"
    }
   ],
   "source": [
    "dta_w1[['gender_w1', 'race_w1']].apply(pd.unique)"
   ]
  },
  {
   "cell_type": "code",
   "execution_count": null,
   "id": "d6c82ed5",
   "metadata": {},
   "outputs": [],
   "source": []
  }
 ],
 "metadata": {
  "kernelspec": {
   "display_name": "Python 3",
   "language": "python",
   "name": "python3"
  },
  "language_info": {
   "codemirror_mode": {
    "name": "ipython",
    "version": 3
   },
   "file_extension": ".py",
   "mimetype": "text/x-python",
   "name": "python",
   "nbconvert_exporter": "python",
   "pygments_lexer": "ipython3",
   "version": "3.8.8"
  }
 },
 "nbformat": 4,
 "nbformat_minor": 5
}
